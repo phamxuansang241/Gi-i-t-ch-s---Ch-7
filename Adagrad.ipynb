{
 "cells": [
  {
   "cell_type": "markdown",
   "metadata": {},
   "source": [
    "#### Gradient Descent với kĩ thuật Adragrad để tìm giá trị nhỏ nhất"
   ]
  },
  {
   "cell_type": "markdown",
   "metadata": {},
   "source": [
    "> Gọi các thư viện"
   ]
  },
  {
   "cell_type": "code",
   "execution_count": 9,
   "metadata": {},
   "outputs": [],
   "source": [
    "import pandas as pd\n",
    "import math\n",
    "import numpy as np \n",
    "import matplotlib.pyplot as plt"
   ]
  },
  {
   "cell_type": "markdown",
   "metadata": {},
   "source": [
    "> Hàm tính f tại x và đạo hàm của f tại:"
   ]
  },
  {
   "cell_type": "code",
   "execution_count": 10,
   "metadata": {},
   "outputs": [],
   "source": [
    "def func(x):\n",
    "    return x**2 + x + 9*np.sin(x)\n",
    "\n",
    "def d_func(x):\n",
    "    h = 1e-7\n",
    "    return ((func(x + h) - func(x - h))/(2 * h))"
   ]
  },
  {
   "cell_type": "markdown",
   "metadata": {},
   "source": [
    "> Hàm myGD_adagrad(alpha, x0) để thực hiện thuật toán Gradient Descent với kỹ thuật Adagrad.\n",
    "\n",
    "> Tham số đầu vào:\n",
    "- alpha: hệ số học ban đầu.\n",
    "- x0: điểm khởi tạo.\n",
    "\n",
    "> Hàm trả về: Giả trị nhỏ nhất của f là func(x[-1]) với x = x[-1]."
   ]
  },
  {
   "cell_type": "code",
   "execution_count": 12,
   "metadata": {},
   "outputs": [],
   "source": [
    "def myGD_adagrad(alpha, x0):\n",
    "    x = [x0]\n",
    "    ep = 1e-3\n",
    "    \n",
    "#     Tổng bình phương các gradient.\n",
    "    sum_gradient_sq = d_func(x0)*d_func(x0)\n",
    "#     Thực hiện lặp.\n",
    "    for it in range(1000):\n",
    "#     Cập nhật hệ số học.\n",
    "        cur_alpha = alpha/(math.sqrt(sum_gradient_sq) + 1)\n",
    "#     Cập nhật vị trí x mới.\n",
    "        x_new = x[-1] - cur_alpha*d_func(x[-1])\n",
    "#     Cộng thêm bình phương gradient hiện tại.\n",
    "        sum_gradient_sq = sum_gradient_sq + d_func(x_new)*d_func(x_new)\n",
    "        if abs(d_func(x_new)) < ep:\n",
    "            break\n",
    "        x.append(x_new)\n",
    "    print(\"Số bước lặp: {}\".format(it))\n",
    "    print(\"Giá trị nhỏ nhất là {} với x = {}\".format(x[-1], func(x[-1])))\n",
    "    return (x[-1], func(x[-1]))\n"
   ]
  },
  {
   "cell_type": "markdown",
   "metadata": {},
   "source": [
    "> Thực hiện hàm myGD_adagrad()"
   ]
  }
 ],
 "metadata": {
  "kernelspec": {
   "display_name": "Python 3",
   "language": "python",
   "name": "python3"
  },
  "language_info": {
   "codemirror_mode": {
    "name": "ipython",
    "version": 3
   },
   "file_extension": ".py",
   "mimetype": "text/x-python",
   "name": "python",
   "nbconvert_exporter": "python",
   "pygments_lexer": "ipython3",
   "version": "3.8.5"
  }
 },
 "nbformat": 4,
 "nbformat_minor": 4
}
