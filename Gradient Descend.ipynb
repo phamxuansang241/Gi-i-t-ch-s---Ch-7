{
 "cells": [
  {
   "cell_type": "markdown",
   "metadata": {},
   "source": [
    "### Code tìm giá trị lớn nhất, nhỏ nhất của hàm một biến trên một khoảng đóng [a, b]"
   ]
  },
  {
   "cell_type": "markdown",
   "metadata": {},
   "source": [
    "> Gọi các thư viện."
   ]
  },
  {
   "cell_type": "code",
   "execution_count": 1,
   "metadata": {},
   "outputs": [],
   "source": [
    "import pandas as pd\n",
    "import math\n",
    "import numpy as np \n",
    "import matplotlib.pyplot as plt"
   ]
  },
  {
   "cell_type": "markdown",
   "metadata": {},
   "source": [
    "> Khai báo các biến sau:\n",
    "- a, b: Khoảng đóng [a, b].\n",
    "- import_pnt[]: Một list chưa các điểm cực trị trên khoảng [a, b].\n",
    "- learning_rate: hệ số học."
   ]
  },
  {
   "cell_type": "code",
   "execution_count": 2,
   "metadata": {},
   "outputs": [],
   "source": [
    "import_pnt = []\n",
    "a = -5\n",
    "b = 5\n",
    "learning_rate = 0.1"
   ]
  },
  {
   "cell_type": "markdown",
   "metadata": {},
   "source": [
    "> Giá trị hàm f tại điểm x."
   ]
  },
  {
   "cell_type": "code",
   "execution_count": 4,
   "metadata": {},
   "outputs": [],
   "source": [
    "def func(x):\n",
    "    return x**2 + x + 9*np.sin(x)"
   ]
  },
  {
   "cell_type": "markdown",
   "metadata": {},
   "source": [
    "> Giá trị đạo hàm của hàm f tại điểm x."
   ]
  },
  {
   "cell_type": "code",
   "execution_count": 5,
   "metadata": {},
   "outputs": [],
   "source": [
    "def d_func(x):\n",
    "    h = 1e-7\n",
    "    return ((func(x + h) - func(x - h))/(2 * h))"
   ]
  },
  {
   "cell_type": "markdown",
   "metadata": {},
   "source": [
    "> Hàm gradient descent."
   ]
  },
  {
   "cell_type": "code",
   "execution_count": 7,
   "metadata": {},
   "outputs": [],
   "source": [
    "def myGD(alpha, x0, sign):\n",
    "    x = [x0]\n",
    "    ep = 1e-3\n",
    "    for it in range(1000):\n",
    "        x_new = x[-1] + sign*alpha*d_func(x[-1])\n",
    "        if abs(d_func(x_new)) < ep:\n",
    "            break\n",
    "        if (x[-1] > b):\n",
    "            break\n",
    "        x.append(x_new)\n",
    "    \n",
    "    type_pnt = \"\"\n",
    "    if(sign == 1):\n",
    "        type_pnt = \"cực đại\" \n",
    "    else:\n",
    "        type_pnt = \"cực tiểu\"\n",
    "\n",
    "    if(x[-1] < b):    \n",
    "        print(\"Số bước lặp để tới điểm {} {} là: {}\".format(type_pnt, x[-1], it))\n",
    "    return (x[-1])"
   ]
  },
  {
   "cell_type": "markdown",
   "metadata": {},
   "source": [
    "> Hàm tìm các điểm cực trị của hàm số."
   ]
  },
  {
   "cell_type": "code",
   "execution_count": 8,
   "metadata": {},
   "outputs": [],
   "source": [
    "def get_local_maxmin(fi, se):\n",
    "    x = fi\n",
    "    step = 1e-2\n",
    "    while(x < se):\n",
    "        if(d_func(x) < 0):\n",
    "            import_pnt.append(myGD(learning_rate, x, -1))\n",
    "            x = import_pnt[-1] + step\n",
    "        else:\n",
    "            import_pnt.append(myGD(0.1, x, 1))\n",
    "            x = import_pnt[-1] + step\n",
    "    \n",
    "    import_pnt.pop()"
   ]
  },
  {
   "cell_type": "markdown",
   "metadata": {},
   "source": [
    "> Tìm giá trị lớn nhất, nhỏ nhất bằng cách so sánh các điểm cực trị và hai đầu mút."
   ]
  },
  {
   "cell_type": "code",
   "execution_count": 12,
   "metadata": {},
   "outputs": [],
   "source": [
    "def solve():\n",
    "    maximum = func(a)\n",
    "    x_max = a\n",
    "    minimum = func(a)\n",
    "    x_min = a\n",
    "    \n",
    "    for it in import_pnt:\n",
    "        if(func(it) > maximum):\n",
    "            maximum = func(it)\n",
    "            x_max = it\n",
    "        if(func(it) < minimum):\n",
    "            minimum = func(it)\n",
    "            x_min = it\n",
    "    \n",
    "    \n",
    "    if(func(b) < minimum):\n",
    "        minimum = func(b)\n",
    "        x_min = b\n",
    "    if(func(b) > maximum):\n",
    "        maximum = func(b)\n",
    "        x_max = b\n",
    "        \n",
    "    print(\"Giá trị lớn của hàm số là {} với x = {}\".format(maximum, x_max))\n",
    "    print(\"Giá trị nhỏ của hàm số là {} với x = {}\".format(minimum, x_min))\n",
    "    \n",
    "    return (x_min, minimum, x_max, maximum)          \n"
   ]
  },
  {
   "cell_type": "markdown",
   "metadata": {},
   "source": [
    "> Thực hiện hàm get_local_maxmin() và solve()."
   ]
  },
  {
   "cell_type": "code",
   "execution_count": 13,
   "metadata": {},
   "outputs": [
    {
     "name": "stdout",
     "output_type": "stream",
     "text": [
      "Số bước lặp để tới điểm cực tiểu -1.374814995814262 là: 6\n",
      "Số bước lặp để tới điểm cực đại 2.219443894540257 là: 18\n",
      "Số bước lặp để tới điểm cực tiểu 3.577866215896936 là: 22\n",
      "\n",
      "Giá trị lớn của hàm số là 28.630318471968245 với x = -5\n",
      "Giá trị nhỏ của hàm số là -8.312412155969382 với x = -1.374814995814262\n"
     ]
    },
    {
     "data": {
      "text/plain": [
       "(-1.374814995814262, -8.312412155969382, -5, 28.630318471968245)"
      ]
     },
     "execution_count": 13,
     "metadata": {},
     "output_type": "execute_result"
    }
   ],
   "source": [
    "get_local_maxmin(a, b)\n",
    "print()\n",
    "solve()"
   ]
  },
  {
   "cell_type": "code",
   "execution_count": null,
   "metadata": {},
   "outputs": [],
   "source": []
  }
 ],
 "metadata": {
  "kernelspec": {
   "display_name": "Python 3",
   "language": "python",
   "name": "python3"
  },
  "language_info": {
   "codemirror_mode": {
    "name": "ipython",
    "version": 3
   },
   "file_extension": ".py",
   "mimetype": "text/x-python",
   "name": "python",
   "nbconvert_exporter": "python",
   "pygments_lexer": "ipython3",
   "version": "3.8.5"
  }
 },
 "nbformat": 4,
 "nbformat_minor": 4
}
