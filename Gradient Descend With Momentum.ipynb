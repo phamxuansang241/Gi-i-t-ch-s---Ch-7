{
 "cells": [
  {
   "cell_type": "markdown",
   "metadata": {},
   "source": [
    "### Gradient Descend với Momentum để tìm giá trị nhỏ nhất."
   ]
  },
  {
   "cell_type": "markdown",
   "metadata": {},
   "source": [
    "> Gọi các thư viện"
   ]
  },
  {
   "cell_type": "code",
   "execution_count": 1,
   "metadata": {},
   "outputs": [],
   "source": [
    "import pandas as pd\n",
    "import math\n",
    "import numpy as np \n",
    "import matplotlib.pyplot as plt"
   ]
  },
  {
   "cell_type": "markdown",
   "metadata": {},
   "source": [
    "> Hàm tính f tại x và đạo hàm của f tại x:"
   ]
  },
  {
   "cell_type": "code",
   "execution_count": 2,
   "metadata": {},
   "outputs": [],
   "source": [
    "def func(x):\n",
    "    return x**2 + x + 9*np.sin(x)\n",
    "\n",
    "def d_func(x):\n",
    "    h = 1e-7\n",
    "    return ((func(x + h) - func(x - h))/(2 * h))"
   ]
  },
  {
   "cell_type": "markdown",
   "metadata": {},
   "source": [
    "> Hàm thực hiện thuật toán Gradient Descend với Momentum với các tham số đầu vào:\n",
    "- x0: điểm khởi tạo.\n",
    "- alpha: hệ số học."
   ]
  },
  {
   "cell_type": "code",
   "execution_count": 5,
   "metadata": {},
   "outputs": [],
   "source": [
    "def GD_momentum(x0, gamma, alpha):\n",
    "    ep = 1e-3\n",
    "    \n",
    "    x = [x0]\n",
    "    v_old = np.zeros_like(x0)\n",
    "    \n",
    "    for it in range(1000):\n",
    "        v_new = gamma*v_old + alpha*d_func(x[-1])\n",
    "        x_new = x[-1] - v_new\n",
    "        if (abs(d_func(x_new)) < ep):\n",
    "            break \n",
    "        x.append(x_new)\n",
    "        v_old = v_new\n",
    "\n",
    "    print(\"Số bước lặp: {}\".format(it))\n",
    "    print(\"Giá trị nhỏ nhất là {} với x = {}\".format(x[-1], func(x[-1])))\n",
    "    return (x[-1], func(x[-1]))"
   ]
  },
  {
   "cell_type": "markdown",
   "metadata": {},
   "source": [
    "> Thực hiện hàm GD_momentum để lấy kết quả:"
   ]
  },
  {
   "cell_type": "code",
   "execution_count": 6,
   "metadata": {},
   "outputs": [
    {
     "name": "stdout",
     "output_type": "stream",
     "text": [
      "Số bước lặp: 143\n",
      "Giá trị nhỏ nhất là -1.3764976264098463 với x = -8.312401761061206\n"
     ]
    },
    {
     "data": {
      "text/plain": [
       "(-1.3764976264098463, -8.312401761061206)"
      ]
     },
     "execution_count": 6,
     "metadata": {},
     "output_type": "execute_result"
    }
   ],
   "source": [
    "GD_momentum(5, 0.9, 0.1)"
   ]
  }
 ],
 "metadata": {
  "kernelspec": {
   "display_name": "Python 3",
   "language": "python",
   "name": "python3"
  },
  "language_info": {
   "codemirror_mode": {
    "name": "ipython",
    "version": 3
   },
   "file_extension": ".py",
   "mimetype": "text/x-python",
   "name": "python",
   "nbconvert_exporter": "python",
   "pygments_lexer": "ipython3",
   "version": "3.8.5"
  }
 },
 "nbformat": 4,
 "nbformat_minor": 4
}
